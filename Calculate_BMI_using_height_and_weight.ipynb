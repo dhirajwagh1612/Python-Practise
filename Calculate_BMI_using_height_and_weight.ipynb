{
  "nbformat": 4,
  "nbformat_minor": 0,
  "metadata": {
    "colab": {
      "name": "Calculate BMI using height and weight.ipynb",
      "provenance": [],
      "include_colab_link": true
    },
    "kernelspec": {
      "name": "python3",
      "display_name": "Python 3"
    }
  },
  "cells": [
    {
      "cell_type": "markdown",
      "metadata": {
        "id": "view-in-github",
        "colab_type": "text"
      },
      "source": [
        "<a href=\"https://colab.research.google.com/github/dhirajwagh1612/Python-Practise/blob/main/Calculate_BMI_using_height_and_weight.ipynb\" target=\"_parent\"><img src=\"https://colab.research.google.com/assets/colab-badge.svg\" alt=\"Open In Colab\"/></a>"
      ]
    },
    {
      "cell_type": "code",
      "metadata": {
        "id": "RBaKx7JNmf5C",
        "outputId": "a6c0bd61-7c0f-4faf-d477-68fdfe75db2b",
        "colab": {
          "base_uri": "https://localhost:8080/",
          "height": 54
        }
      },
      "source": [
        "weight=input(\"Enter Your Weight in kgs\")\n",
        "weight=float(weight)"
      ],
      "execution_count": null,
      "outputs": [
        {
          "output_type": "stream",
          "text": [
            "Enter Your Weight in kgs74\n"
          ],
          "name": "stdout"
        }
      ]
    },
    {
      "cell_type": "code",
      "metadata": {
        "id": "eO26gKKnnlry",
        "outputId": "dee63230-d30e-44b7-de16-2c4875c1db29",
        "colab": {
          "base_uri": "https://localhost:8080/",
          "height": 54
        }
      },
      "source": [
        "height_unit=input(\"what is your preferred unit for height  Type 'F' for feet and 'M' for meters\")"
      ],
      "execution_count": null,
      "outputs": [
        {
          "output_type": "stream",
          "text": [
            "what is your preferred unit for height  Type 'F' for feet and 'M' for metersF\n"
          ],
          "name": "stdout"
        }
      ]
    },
    {
      "cell_type": "code",
      "metadata": {
        "id": "J0rK0pa-oFCG",
        "outputId": "b19304e9-aeb0-4839-bec6-d16017aa409c",
        "colab": {
          "base_uri": "https://localhost:8080/",
          "height": 89
        }
      },
      "source": [
        "\n",
        "\n",
        "if height_unit == \"F\":\n",
        "  print(\"Enter your height in feet and inches\")\n",
        "  feet=input(\"Enter your height feet:\")\n",
        "  feet=float(feet)\n",
        "  inches=input(\"Enter your height inches:\")\n",
        "  inches=float(inches)\n",
        "\n",
        "  #feet into meter conversion.\n",
        "  conversion1=feet*0.3048\n",
        "  conversion2=inches*0.0254\n",
        "  conversion=conversion1+conversion2\n",
        "\n",
        "elif height_unit == \"M\":\n",
        "  print(\"you selected height unit is meter\")\n",
        "  meter=input(\"Please Enter your Height into Meter\")\n",
        "  meter=float(meter)\n"
      ],
      "execution_count": null,
      "outputs": [
        {
          "output_type": "stream",
          "text": [
            "Enter your height in feet and inches\n",
            "Enter your height feet:5\n",
            "Enter your height inches:8\n"
          ],
          "name": "stdout"
        }
      ]
    },
    {
      "cell_type": "code",
      "metadata": {
        "id": "iXaQNtZcpUXV",
        "outputId": "2b67286f-1cc7-4f17-c9f5-f68e7884947b",
        "colab": {
          "base_uri": "https://localhost:8080/",
          "height": 34
        }
      },
      "source": [
        "# compute BMI using \n",
        "if height_unit == \"F\":\n",
        "  BMI = weight / conversion**2\n",
        "  print(\"your BMI is \",BMI)\n",
        "\n",
        "elif height_unit == \"M\":\n",
        "  BMI = weight / meter**2\n",
        "  print(\"your BMI is \",BMI)"
      ],
      "execution_count": null,
      "outputs": [
        {
          "output_type": "stream",
          "text": [
            "your BMI is  24.80541293262517\n"
          ],
          "name": "stdout"
        }
      ]
    },
    {
      "cell_type": "code",
      "metadata": {
        "id": "4gNyCUPcqNGT",
        "outputId": "711092e7-5dd8-417b-f6db-0b4c106d1402",
        "colab": {
          "base_uri": "https://localhost:8080/",
          "height": 34
        }
      },
      "source": [
        "if BMI < 18.5:\n",
        "  print(\"you are under weight\")\n",
        "elif 18.5 <= BMI < 25:\n",
        "  print(\"your BMI is Normal\")\n",
        "elif 25 <= BMI < 30:\n",
        "  print(\"you are over weighted\")\n",
        "elif BMI > 30: \n",
        "  print(\"you are very VERY-OVERWEIGHT\")"
      ],
      "execution_count": null,
      "outputs": [
        {
          "output_type": "stream",
          "text": [
            "your BMI is Normal\n"
          ],
          "name": "stdout"
        }
      ]
    },
    {
      "cell_type": "code",
      "metadata": {
        "id": "MAhyc5y9t_YG"
      },
      "source": [
        ""
      ],
      "execution_count": null,
      "outputs": []
    }
  ]
}