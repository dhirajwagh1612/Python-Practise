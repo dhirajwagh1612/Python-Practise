{
  "nbformat": 4,
  "nbformat_minor": 0,
  "metadata": {
    "colab": {
      "name": "Calculate BMI using height and weight.ipynb",
      "provenance": [],
      "include_colab_link": true
    },
    "kernelspec": {
      "name": "python3",
      "display_name": "Python 3"
    }
  },
  "cells": [
    {
      "cell_type": "markdown",
      "metadata": {
        "id": "view-in-github",
        "colab_type": "text"
      },
      "source": [
        "<a href=\"https://colab.research.google.com/github/dhirajwagh1612/Python-Practise/blob/main/Calculate_BMI_using_height_and_weight.ipynb\" target=\"_parent\"><img src=\"https://colab.research.google.com/assets/colab-badge.svg\" alt=\"Open In Colab\"/></a>"
      ]
    },
    {
      "cell_type": "code",
      "metadata": {
        "id": "RBaKx7JNmf5C",
        "outputId": "58f9dab4-4a96-4ffd-f3ca-b0491d00184c",
        "colab": {
          "base_uri": "https://localhost:8080/",
          "height": 54
        }
      },
      "source": [
        "weight=input(\"Enter Your Weight in kgs\")\n",
        "weight=float(weight)"
      ],
      "execution_count": 50,
      "outputs": [
        {
          "output_type": "stream",
          "text": [
            "Enter Your Weight in kgs62\n"
          ],
          "name": "stdout"
        }
      ]
    },
    {
      "cell_type": "code",
      "metadata": {
        "id": "eO26gKKnnlry",
        "outputId": "1dd0b740-c9c6-412f-d1e5-4801ea166fc1",
        "colab": {
          "base_uri": "https://localhost:8080/",
          "height": 54
        }
      },
      "source": [
        "height_unit=input(\"what is your preferred unit for height  Type 'F' for feet and 'M' for meters\")"
      ],
      "execution_count": 51,
      "outputs": [
        {
          "output_type": "stream",
          "text": [
            "what is your preferred unit for height  Type 'F' for feet and 'M' for metersF\n"
          ],
          "name": "stdout"
        }
      ]
    },
    {
      "cell_type": "code",
      "metadata": {
        "id": "J0rK0pa-oFCG",
        "outputId": "3ba012bf-9871-4556-9593-5433acb15600",
        "colab": {
          "base_uri": "https://localhost:8080/",
          "height": 89
        }
      },
      "source": [
        "\n",
        "\n",
        "if height_unit == \"F\":\n",
        "  print(\"Enter your height in feet and inches\")\n",
        "  feet=input(\"Enter your height feet:\")\n",
        "  feet=float(feet)\n",
        "  inches=input(\"Enter your height inches:\")\n",
        "  inches=float(inches)\n",
        "\n",
        "  #feet into meter conversion.\n",
        "  conversion1=feet*0.3048\n",
        "  conversion2=inches*0.0254\n",
        "  conversion=conversion1+conversion2\n",
        "\n",
        "elif height_unit == \"M\":\n",
        "  print(\"you selected height unit is meter\")\n",
        "  meter=input(\"Please Enter your Height into Meter\")\n",
        "  meter=float(meter)\n"
      ],
      "execution_count": 52,
      "outputs": [
        {
          "output_type": "stream",
          "text": [
            "Enter your height in feet and inches\n",
            "Enter your height feet:5\n",
            "Enter your height inches:0\n"
          ],
          "name": "stdout"
        }
      ]
    },
    {
      "cell_type": "code",
      "metadata": {
        "id": "iXaQNtZcpUXV",
        "outputId": "235aa025-5b67-4c0b-9925-632d93036b6a",
        "colab": {
          "base_uri": "https://localhost:8080/",
          "height": 34
        }
      },
      "source": [
        "# compute BMI using \n",
        "if height_unit == \"F\":\n",
        "  BMI = weight / conversion**2\n",
        "  print(\"your BMI is \",BMI)\n",
        "\n",
        "elif height_unit == \"M\":\n",
        "  BMI = weight / meter**2\n",
        "  print(\"your BMI is \",BMI)"
      ],
      "execution_count": 53,
      "outputs": [
        {
          "output_type": "stream",
          "text": [
            "your BMI is  26.69449783344011\n"
          ],
          "name": "stdout"
        }
      ]
    },
    {
      "cell_type": "code",
      "metadata": {
        "id": "4gNyCUPcqNGT",
        "outputId": "d4a4b5e6-dcda-45b3-cdf0-61934c5eb317",
        "colab": {
          "base_uri": "https://localhost:8080/",
          "height": 34
        }
      },
      "source": [
        "if BMI < 18.5:\n",
        "  print(\"you are under weight\")\n",
        "elif 18.5 <= BMI < 25:\n",
        "  print(\"your BMI is Normal\")\n",
        "elif 25 <= BMI < 30:\n",
        "  print(\"you are over weighted\")\n",
        "elif BMI > 30: \n",
        "  print(\"you are very VERY-OVERWEIGHT\")"
      ],
      "execution_count": 54,
      "outputs": [
        {
          "output_type": "stream",
          "text": [
            "you are over weighted\n"
          ],
          "name": "stdout"
        }
      ]
    },
    {
      "cell_type": "code",
      "metadata": {
        "id": "MAhyc5y9t_YG"
      },
      "source": [
        ""
      ],
      "execution_count": null,
      "outputs": []
    }
  ]
}