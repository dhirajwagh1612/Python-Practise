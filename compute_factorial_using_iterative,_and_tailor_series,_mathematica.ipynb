{
  "nbformat": 4,
  "nbformat_minor": 0,
  "metadata": {
    "colab": {
      "name": "compute factorial using iterative, and tailor series, mathematica.ipynb",
      "provenance": [],
      "mount_file_id": "1gwdBTf-9Jg4JzJBpRMY7FLleNLAwR2Ky",
      "authorship_tag": "ABX9TyOrhv+ezROpoiFd5nAcLvcE",
      "include_colab_link": true
    },
    "kernelspec": {
      "name": "python3",
      "display_name": "Python 3"
    }
  },
  "cells": [
    {
      "cell_type": "markdown",
      "metadata": {
        "id": "view-in-github",
        "colab_type": "text"
      },
      "source": [
        "<a href=\"https://colab.research.google.com/github/dhirajwagh1612/Python-Practise/blob/main/compute_factorial_using_iterative%2C_and_tailor_series%2C_mathematica.ipynb\" target=\"_parent\"><img src=\"https://colab.research.google.com/assets/colab-badge.svg\" alt=\"Open In Colab\"/></a>"
      ]
    },
    {
      "cell_type": "code",
      "metadata": {
        "id": "2HWW65SEshY5"
      },
      "source": [
        "def factorial(n):\n",
        "  product=1\n",
        "  for i in range(n):\n",
        "    #print(i, product)\n",
        "    product *=(i+1)\n",
        "  return product"
      ],
      "execution_count": null,
      "outputs": []
    },
    {
      "cell_type": "code",
      "metadata": {
        "id": "yq9HPBOKtRfH",
        "outputId": "ec9eb9ca-06c4-499e-a839-bcae55d7474a",
        "colab": {
          "base_uri": "https://localhost:8080/",
          "height": 34
        }
      },
      "source": [
        "print(factorial(3))"
      ],
      "execution_count": null,
      "outputs": [
        {
          "output_type": "stream",
          "text": [
            "6\n"
          ],
          "name": "stdout"
        }
      ]
    },
    {
      "cell_type": "code",
      "metadata": {
        "id": "OFzmaJYHtU94"
      },
      "source": [
        "def factorial_recursive(n):\n",
        "  if n>1:\n",
        "    return n* factorial_recursive(n-1)\n",
        "  else:\n",
        "    return 1"
      ],
      "execution_count": null,
      "outputs": []
    },
    {
      "cell_type": "code",
      "metadata": {
        "id": "jQp_n9CLtc2G",
        "outputId": "0339809f-e182-4981-ebea-9eb0b71ed4c4",
        "colab": {
          "base_uri": "https://localhost:8080/",
          "height": 34
        }
      },
      "source": [
        "factorial_recursive(3)"
      ],
      "execution_count": null,
      "outputs": [
        {
          "output_type": "execute_result",
          "data": {
            "text/plain": [
              "6"
            ]
          },
          "metadata": {
            "tags": []
          },
          "execution_count": 11
        }
      ]
    },
    {
      "cell_type": "code",
      "metadata": {
        "id": "tlwckE0JEHnD"
      },
      "source": [
        "def compute_ratio(x,n):\n",
        "  ratio = x**n / factorial (n)\n",
        "  return ratio"
      ],
      "execution_count": null,
      "outputs": []
    },
    {
      "cell_type": "code",
      "metadata": {
        "id": "VLJX5EMzFJax",
        "outputId": "cadbec52-4ac2-47ff-d4b5-02a59497b1d1",
        "colab": {
          "base_uri": "https://localhost:8080/",
          "height": 34
        }
      },
      "source": [
        "compute_ratio(2,3)"
      ],
      "execution_count": null,
      "outputs": [
        {
          "output_type": "execute_result",
          "data": {
            "text/plain": [
              "1.3333333333333333"
            ]
          },
          "metadata": {
            "tags": []
          },
          "execution_count": 25
        }
      ]
    },
    {
      "cell_type": "code",
      "metadata": {
        "id": "yM_KavuxFMja"
      },
      "source": [
        "def compute_sum(x, N):\n",
        "  sum = 1\n",
        "  for i in range(N):\n",
        "    sum += cumpute_ratio(x, i+1)\n",
        "  return sum"
      ],
      "execution_count": null,
      "outputs": []
    },
    {
      "cell_type": "code",
      "metadata": {
        "id": "Oq0ecYHQFgZj"
      },
      "source": [
        "print(compute_sum(2, 3))"
      ],
      "execution_count": null,
      "outputs": []
    },
    {
      "cell_type": "code",
      "metadata": {
        "id": "jt8uDdeWFkAA"
      },
      "source": [
        "def compute_sum_epsilon(x, epsilon):\n",
        "  sum = 1\n",
        "  while var >= epsilon:\n",
        "    var = compute_ratio (x, i)\n",
        "    sum += var\n",
        "    i += 1\n",
        "  return sum"
      ],
      "execution_count": null,
      "outputs": []
    },
    {
      "cell_type": "code",
      "metadata": {
        "id": "gkGsamVeHuVt"
      },
      "source": [
        "print(compute_sum_epsilon(2, 0.01))"
      ],
      "execution_count": null,
      "outputs": []
    },
    {
      "cell_type": "code",
      "metadata": {
        "id": "KzTaL4ltHz1B"
      },
      "source": [
        "print(compute_sum(2, 100))"
      ],
      "execution_count": null,
      "outputs": []
    },
    {
      "cell_type": "code",
      "metadata": {
        "id": "p3y2E5EDH9Zo"
      },
      "source": [
        "def compute_sum_epsilon(x, epsilon):\n",
        "  sum = 1\n",
        "  while var >= epsilon:\n",
        "    var = compute_ratio (x, i)\n",
        "    sum += var\n",
        "    i += 1\n",
        "    if var < epsilon:\n",
        "      break\n",
        "  return sum"
      ],
      "execution_count": null,
      "outputs": []
    },
    {
      "cell_type": "code",
      "metadata": {
        "id": "3wF--38lINyM"
      },
      "source": [
        "print(compute_sum(2, 0.01))"
      ],
      "execution_count": null,
      "outputs": []
    },
    {
      "cell_type": "code",
      "metadata": {
        "id": "mxvGi-jKIRdp"
      },
      "source": [
        "p= 2\n",
        "q= 1.3\n",
        "\n",
        "v1 = compute_sum(p, 100)* compute_sum(q, 100)\n",
        "v2= compute_sum(p+q, 100)\n",
        "\n",
        "print(v1, v2, v2 - v1)"
      ],
      "execution_count": null,
      "outputs": []
    },
    {
      "cell_type": "code",
      "metadata": {
        "id": "cota5Ky_JKEY"
      },
      "source": [
        ""
      ],
      "execution_count": null,
      "outputs": []
    }
  ]
}